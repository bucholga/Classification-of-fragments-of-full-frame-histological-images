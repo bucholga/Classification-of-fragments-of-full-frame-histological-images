{
  "nbformat": 4,
  "nbformat_minor": 0,
  "metadata": {
    "colab": {
      "name": "TaskNN.ipynb",
      "provenance": [],
      "collapsed_sections": []
    },
    "kernelspec": {
      "name": "python3",
      "display_name": "Python 3"
    },
    "accelerator": "GPU"
  },
  "cells": [
    {
      "cell_type": "code",
      "metadata": {
        "id": "-sZ8YZv8UGo5"
      },
      "source": [
        "!pip install -q libtiff\r\n",
        "!pip install -q tqdm"
      ],
      "execution_count": 1,
      "outputs": []
    },
    {
      "cell_type": "code",
      "metadata": {
        "id": "8on3VU4YUQIK"
      },
      "source": [
        "from pathlib import Path\r\n",
        "from libtiff import TIFF\r\n",
        "import numpy as np\r\n",
        "from typing import List\r\n",
        "from tqdm.notebook import tqdm\r\n",
        "from time import sleep\r\n",
        "from PIL import Image\r\n",
        "import IPython.display\r\n",
        "from sklearn.metrics import balanced_accuracy_score\r\n",
        "import tensorflow as tf\r\n",
        "from google.colab import drive\r\n",
        "import pandas as pd\r\n",
        "import os\r\n",
        "import matplotlib.pyplot as plt\r\n",
        "from matplotlib.pyplot import imshow\r\n",
        "%matplotlib inline\r\n",
        "from IPython.display import clear_output\r\n",
        "\r\n",
        "import tensorflow as tf\r\n",
        "from tensorflow.keras import regularizers, layers\r\n",
        "from tensorflow.keras.callbacks import Callback \r\n",
        "from tensorflow.keras.preprocessing.image import ImageDataGenerator"
      ],
      "execution_count": 2,
      "outputs": []
    },
    {
      "cell_type": "code",
      "metadata": {
        "id": "fIDoMEi4UUn_"
      },
      "source": [
        "np.random.seed(1024)"
      ],
      "execution_count": 3,
      "outputs": []
    },
    {
      "cell_type": "code",
      "metadata": {
        "colab": {
          "base_uri": "https://localhost:8080/"
        },
        "id": "ihpCbbyUUqLb",
        "outputId": "73311b19-da2b-400a-b45a-30460b473604"
      },
      "source": [
        "drive.mount(\"/content/drive\", force_remount=True)"
      ],
      "execution_count": 4,
      "outputs": [
        {
          "output_type": "stream",
          "text": [
            "Mounted at /content/drive\n"
          ],
          "name": "stdout"
        }
      ]
    },
    {
      "cell_type": "code",
      "metadata": {
        "id": "HyHaYWiSU8_t"
      },
      "source": [
        "PROJECT_DIR = 'нейросети/'\r\n",
        "EVALUATE_ONLY = True\r\n",
        "TEST_ON_LARGE_DATASET = True\r\n",
        "TISSUE_CLASSES = ('ADI', 'BACK', 'DEB', 'LYM', 'MUC', 'MUS', 'NORM', 'STR', 'TUM')"
      ],
      "execution_count": 5,
      "outputs": []
    },
    {
      "cell_type": "code",
      "metadata": {
        "id": "SnkX1lYYVBXz"
      },
      "source": [
        "class Dataset:\r\n",
        "    def __init__(self, name, gdrive_dir):\r\n",
        "        self.name = name\r\n",
        "        self.frame_path = os.path.join(\"/content/drive/MyDrive/\", PROJECT_DIR, self.name)\r\n",
        "        self.is_loaded = False\r\n",
        "        p = Path(\"/content/drive/MyDrive/\"+ gdrive_dir + name+'.npz')\r\n",
        "        if p.exists():\r\n",
        "            print(f'Loading dataset {self.name} from npz.')\r\n",
        "            np_obj = np.load(str(p))\r\n",
        "            self.images = np_obj['data']\r\n",
        "            self.labels = np_obj['labels']\r\n",
        "            self.n_files = self.images.shape[0]\r\n",
        "            self.is_loaded = True\r\n",
        "            print(f'Done. Dataset {name} consists of {self.n_files} images.')\r\n",
        "\r\n",
        "    def image(self, i):\r\n",
        "        # read i-th image in dataset and return it as numpy array\r\n",
        "        if self.is_loaded:\r\n",
        "            return self.images[i, :, :, :]\r\n",
        "\r\n",
        "    def images_seq(self, n=None):\r\n",
        "        # sequential access to images inside dataset (is needed for testing)\r\n",
        "        for i in range(self.n_files if not n else n):\r\n",
        "            yield self.image(i)\r\n",
        "\r\n",
        "    def random_image_with_label(self):\r\n",
        "        # get random image with label from dataset\r\n",
        "        i = np.random.randint(self.n_files)\r\n",
        "        return self.image(i), self.labels[i]\r\n",
        "  \r\n",
        "    def random_batch_with_labels(self, n):\r\n",
        "        # create random batch of images with labels (is needed for training)\r\n",
        "        indices = np.random.choice(self.n_files, n)\r\n",
        "        imgs = []\r\n",
        "        for i in indices:\r\n",
        "            img = self.image(i)\r\n",
        "            imgs.append(self.image(i))\r\n",
        "        logits = np.array([self.labels[i] for i in indices])\r\n",
        "        return np.stack(imgs), logits\r\n",
        "\r\n",
        "    def image_with_label(self, i: int):\r\n",
        "        # return i-th image with label from dataset\r\n",
        "        return self.image(i), self.labels[i]\r\n",
        "#LBL7\r\n",
        "    def create_frame(self):\r\n",
        "      df_data = []\r\n",
        "      for id, (img, label) in tqdm(enumerate(zip(self.images, self.labels))):\r\n",
        "        im = Image.fromarray(img)\r\n",
        "        im.save(os.path.join(self.frame_path, f'{id}.jpg'))\r\n",
        "        df_data.append([f'{id}.jpg', label])\r\n",
        "      df = pd.DataFrame(df_data, columns=['id', 'label'])\r\n",
        "      df.to_csv(os.path.join(self.frame_path, 'index.csv'))"
      ],
      "execution_count": 6,
      "outputs": []
    },
    {
      "cell_type": "code",
      "metadata": {
        "id": "cjkXeVWZVNU3"
      },
      "source": [
        "class Metrics:\r\n",
        "    @staticmethod\r\n",
        "    def accuracy(gt: List[int], pred: List[int]):\r\n",
        "        assert len(gt) == len(pred), 'gt and prediction should be of equal length'\r\n",
        "        return sum(int(i[0] == i[1]) for i in zip(gt, pred)) / len(gt)\r\n",
        "\r\n",
        "    @staticmethod\r\n",
        "    def accuracy_balanced(gt: List[int], pred: List[int]):\r\n",
        "        return balanced_accuracy_score(gt, pred)\r\n",
        "\r\n",
        "    @staticmethod\r\n",
        "    def print_all(gt: List[int], pred: List[int], info: str):\r\n",
        "        print(f'metrics for {info}:')\r\n",
        "        print('\\t accuracy {:.4f}:'.format(Metrics.accuracy(gt, pred)))\r\n",
        "        print('\\t balanced accuracy {:.4f}:'.format(Metrics.accuracy_balanced(gt, pred)))"
      ],
      "execution_count": 7,
      "outputs": []
    },
    {
      "cell_type": "code",
      "metadata": {
        "id": "FLdIkC6yVT06"
      },
      "source": [
        "class LivePlotting(Callback):\r\n",
        "    def on_train_begin(self, logs={}):\r\n",
        "        self.i = 0\r\n",
        "        self.x = []\r\n",
        "        self.losses = []\r\n",
        "        self.val_losses = []\r\n",
        "        self.acc = []\r\n",
        "        self.val_acc = []\r\n",
        "        self.fig = plt.figure(figsize=(32, 20))\r\n",
        "        \r\n",
        "        self.logs = []\r\n",
        "\r\n",
        "    def on_epoch_end(self, epoch, logs={}):\r\n",
        "        self.logs.append(logs)\r\n",
        "        self.x.append(self.i)\r\n",
        "\r\n",
        "        self.losses.append(logs.get('loss'))\r\n",
        "        self.val_losses.append(logs.get('val_loss'))\r\n",
        "\r\n",
        "        self.acc.append(logs.get('accuracy'))\r\n",
        "        self.val_acc.append(logs.get('val_accuracy'))\r\n",
        "        self.i += 1\r\n",
        "        f, (ax1, ax2) = plt.subplots(1, 2, sharex=True)\r\n",
        "        \r\n",
        "        clear_output(wait=True)\r\n",
        "        #LBL4\r\n",
        "        ax1.set_yscale('log')\r\n",
        "        ax1.plot(self.x, self.losses, label=\"loss\")\r\n",
        "        if len(self.val_losses) > 1:\r\n",
        "          ax1.plot(self.x, self.val_losses, label=\"val_loss\")\r\n",
        "        ax1.legend()\r\n",
        "        \r\n",
        "        ax2.plot(self.x, self.acc, label=\"accuracy\")\r\n",
        "        if len(self.val_acc) > 1:\r\n",
        "          ax2.plot(self.x, self.val_acc, label=\"validation accuracy\")\r\n",
        "        ax2.legend()\r\n",
        "        \r\n",
        "        plt.show()\r\n",
        "        #LBL3\r\n",
        "        print(f\"{logs} \\n best_val_acc : {np.max(self.val_acc)} \\n best_val_loss : {np.min(self.val_losses)}\")"
      ],
      "execution_count": 8,
      "outputs": []
    },
    {
      "cell_type": "code",
      "metadata": {
        "id": "UFScICMOVdEt"
      },
      "source": [
        "callbacks = {\r\n",
        "    #LBL2\r\n",
        "    'best_loss_checkpoint' : tf.keras.callbacks.ModelCheckpoint(\r\n",
        "          filepath=os.path.join(\"/content/drive/MyDrive/\", PROJECT_DIR, 'best_loss'), monitor='loss', verbose=2, save_best_only=True,\r\n",
        "          save_weights_only=False, mode='min', save_freq='epoch'\r\n",
        "    ),\r\n",
        "    'best_val_acc_checkpoint' : tf.keras.callbacks.ModelCheckpoint(\r\n",
        "          filepath=os.path.join(\"/content/drive/MyDrive/\", PROJECT_DIR, 'best_val_acc'), monitor='val_accuracy', verbose=2, save_best_only=True,\r\n",
        "          save_weights_only=False, mode='max', save_freq='epoch'\r\n",
        "     ),\r\n",
        "    'live_plotting' : LivePlotting()\r\n",
        "}"
      ],
      "execution_count": 9,
      "outputs": []
    },
    {
      "cell_type": "code",
      "metadata": {
        "id": "1ou3a6TXVgWb"
      },
      "source": [
        "class Model:\r\n",
        "    def __init__(self):\r\n",
        "        self.model = tf.keras.models.Sequential([\r\n",
        "            tf.keras.Input(shape=(224, 224, 3)),\r\n",
        "            tf.keras.layers.Conv2D(32, (3, 3), activation='relu', padding='same', input_shape=(224, 224, 3)),\r\n",
        "            tf.keras.layers.AveragePooling2D((2, 2), padding='same'),\r\n",
        "            \r\n",
        "            tf.keras.layers.Conv2D(64, (3, 3), activation='relu', padding='same'),\r\n",
        "            tf.keras.layers.AveragePooling2D((2, 2), padding='same'),\r\n",
        "            \r\n",
        "            tf.keras.layers.Conv2D(128, (3, 3), activation='relu', padding='same'),\r\n",
        "            tf.keras.layers.AveragePooling2D((2, 2), padding='same'),\r\n",
        "\r\n",
        "            tf.keras.layers.Conv2D(256, (3, 3), activation='relu', padding='same'),\r\n",
        "            tf.keras.layers.AveragePooling2D((2, 2), padding='same'),\r\n",
        "\r\n",
        "            tf.keras.layers.Flatten(),\r\n",
        "            tf.keras.layers.Dense(9, activation='softmax')\r\n",
        "        ])\r\n",
        "\r\n",
        "        \r\n",
        "        opt=tf.keras.optimizers.Adam()\r\n",
        "\r\n",
        "        self.model.compile(optimizer=opt,\r\n",
        "              loss=tf.keras.losses.SparseCategoricalCrossentropy(),\r\n",
        "              metrics=['accuracy'])\r\n",
        "        #LBL6\r\n",
        "        self.train_datagen = ImageDataGenerator(\r\n",
        "            rotation_range = 360,\r\n",
        "            width_shift_range = 0.1,\r\n",
        "            height_shift_range = 0.1, \r\n",
        "            zoom_range = 0.1,\r\n",
        "            rescale=1/255.\r\n",
        "        )\r\n",
        "\r\n",
        "        self.test_datagen = ImageDataGenerator(\r\n",
        "            rescale=1/255.)\r\n",
        "\r\n",
        "    def summary(self):\r\n",
        "        self.model.summary()\r\n",
        "\r\n",
        "    def save(self, name: str):\r\n",
        "        self.model.save(os.path.join(\"/content/drive/MyDrive/\", PROJECT_DIR, name))\r\n",
        "\r\n",
        "    def load(self, name: str):\r\n",
        "        self.model = tf.keras.models.load_model(os.path.join(\"/content/drive/MyDrive/\", PROJECT_DIR, name))\r\n",
        "\r\n",
        "    def train(self, dataset: Dataset, EPOCH_NUM : int=3):\r\n",
        "\r\n",
        "        train_images, train_labels = dataset.load_data()\r\n",
        "        self.train_datagen.fit(train_images)\r\n",
        "\r\n",
        "\r\n",
        "        print('training started')\r\n",
        "        self.model.fit(self.train_datagen.flow(train_images.astype('float32'), train_labels), \r\n",
        "                       callbacks = [callbacks['best_loss_checkpoint'], callbacks['live_plotting']],\r\n",
        "                       epochs=200, \r\n",
        "                       verbose=1)\r\n",
        "        print('training done')\r\n",
        "\r\n",
        "\r\n",
        "    def train_validate(self, train_dataset: Dataset, test_dataset: Dataset, EPOCH_NUM : int=3):\r\n",
        "\r\n",
        "      self.train_datagen.fit(train_dataset.images)\r\n",
        "      self.test_datagen.fit(test_dataset.images)\r\n",
        "\r\n",
        "\r\n",
        "      print('training started')\r\n",
        "      self.model.fit(self.train_datagen.flow(train_dataset.images.astype('float32'), train_dataset.labels, batch_size=32), \r\n",
        "                     #LBL5\r\n",
        "                     validation_data=self.test_datagen.flow(test_dataset.images.astype('float32'), test_dataset.labels),\r\n",
        "                     callbacks = [callbacks['best_val_acc_checkpoint'], callbacks['live_plotting']],\r\n",
        "                     epochs=EPOCH_NUM, \r\n",
        "                     verbose=1,\r\n",
        "                     batch_size=200,\r\n",
        "                     workers=8)\r\n",
        "      print('training done')\r\n",
        "#LBL7\r\n",
        "    def train_validate_from_frame(self, train_dataset: Dataset, test_dataset: Dataset, EPOCH_NUM : int=3):\r\n",
        "\r\n",
        "      train_df = pd.read_csv(os.path.join(train_dataset.frame_path, 'index.csv'))\r\n",
        "      test_df = pd.read_csv(os.path.join(test_dataset.frame_path, 'index.csv'))\r\n",
        "\r\n",
        "      train_generator = self.train_datagen.flow_from_dataframe(\r\n",
        "          dataframe=train_df,\r\n",
        "          directory = train_dataset.frame_path,\r\n",
        "          x_col='id',\r\n",
        "          y_col='label',\r\n",
        "          batch_size=32,\r\n",
        "          target_size=(224, 224),\r\n",
        "          shuffle=True,\r\n",
        "          seed=1024,\r\n",
        "          class_mode='raw'\r\n",
        "      )\r\n",
        "\r\n",
        "      test_generator = self.test_datagen.flow_from_dataframe(\r\n",
        "          dataframe=test_df,\r\n",
        "          directory = test_dataset.frame_path,\r\n",
        "          x_col='id',\r\n",
        "          y_col='label',\r\n",
        "          batch_size=32,\r\n",
        "          target_size=(224, 224),\r\n",
        "          shuffle=True,\r\n",
        "          seed=1024,\r\n",
        "          class_mode='raw'\r\n",
        "      )\r\n",
        "\r\n",
        "      print('training started')\r\n",
        "      self.model.fit_generator(train_generator, \r\n",
        "                     #LBL5          \r\n",
        "                     validation_data=test_generator,\r\n",
        "                     callbacks = [callbacks['best_val_acc_checkpoint'], callbacks['live_plotting']],\r\n",
        "                     epochs=EPOCH_NUM, \r\n",
        "                     verbose=1,\r\n",
        "                     workers=8)\r\n",
        "      print('training done')\r\n",
        "#LBL1   \r\n",
        "    def test_on_dataset(self, dataset: Dataset, limit=None):\r\n",
        "        predictions = []\r\n",
        "        n = dataset.n_files if not limit else int(dataset.n_files * limit)\r\n",
        "\r\n",
        "\r\n",
        "        for img in tqdm(dataset.images_seq(n), total=n):\r\n",
        "            predictions.append(self.test_on_image(img.reshape(1, *img.shape)))\r\n",
        "        return predictions\r\n",
        "\r\n",
        "    def test_on_image(self, img: np.ndarray):\r\n",
        "        return np.argmax(self.model.predict(img/255.))"
      ],
      "execution_count": 10,
      "outputs": []
    },
    {
      "cell_type": "code",
      "metadata": {
        "colab": {
          "base_uri": "https://localhost:8080/"
        },
        "id": "0NXEmcRTVlTD",
        "outputId": "7dbb9caf-8e8d-40ea-fc88-77498a19275c"
      },
      "source": [
        "d_train = Dataset('train', PROJECT_DIR)\r\n",
        "d_test = Dataset('test', PROJECT_DIR)"
      ],
      "execution_count": 11,
      "outputs": [
        {
          "output_type": "stream",
          "text": [
            "Loading dataset train from npz.\n",
            "Done. Dataset train consists of 18000 images.\n",
            "Loading dataset test from npz.\n",
            "Done. Dataset test consists of 4500 images.\n"
          ],
          "name": "stdout"
        }
      ]
    },
    {
      "cell_type": "code",
      "metadata": {
        "colab": {
          "base_uri": "https://localhost:8080/"
        },
        "id": "WLN6vhi6VvLv",
        "outputId": "59546c64-2b6f-4683-c4f0-f0dec40cb9d0"
      },
      "source": [
        "model = Model()\r\n",
        "model.summary()"
      ],
      "execution_count": 12,
      "outputs": [
        {
          "output_type": "stream",
          "text": [
            "Model: \"sequential\"\n",
            "_________________________________________________________________\n",
            "Layer (type)                 Output Shape              Param #   \n",
            "=================================================================\n",
            "conv2d (Conv2D)              (None, 224, 224, 32)      896       \n",
            "_________________________________________________________________\n",
            "average_pooling2d (AveragePo (None, 112, 112, 32)      0         \n",
            "_________________________________________________________________\n",
            "conv2d_1 (Conv2D)            (None, 112, 112, 64)      18496     \n",
            "_________________________________________________________________\n",
            "average_pooling2d_1 (Average (None, 56, 56, 64)        0         \n",
            "_________________________________________________________________\n",
            "conv2d_2 (Conv2D)            (None, 56, 56, 128)       73856     \n",
            "_________________________________________________________________\n",
            "average_pooling2d_2 (Average (None, 28, 28, 128)       0         \n",
            "_________________________________________________________________\n",
            "conv2d_3 (Conv2D)            (None, 28, 28, 256)       295168    \n",
            "_________________________________________________________________\n",
            "average_pooling2d_3 (Average (None, 14, 14, 256)       0         \n",
            "_________________________________________________________________\n",
            "flatten (Flatten)            (None, 50176)             0         \n",
            "_________________________________________________________________\n",
            "dense (Dense)                (None, 9)                 451593    \n",
            "=================================================================\n",
            "Total params: 840,009\n",
            "Trainable params: 840,009\n",
            "Non-trainable params: 0\n",
            "_________________________________________________________________\n"
          ],
          "name": "stdout"
        }
      ]
    },
    {
      "cell_type": "code",
      "metadata": {
        "colab": {
          "base_uri": "https://localhost:8080/",
          "height": 349
        },
        "id": "qOFrWrElV1bs",
        "outputId": "b3366016-012d-45ce-b71b-4053cae57512"
      },
      "source": [
        "model.train_validate_from_frame(d_train, d_test, EPOCH_NUM=200)"
      ],
      "execution_count": null,
      "outputs": [
        {
          "output_type": "display_data",
          "data": {
            "image/png": "[encoded data removed]",
            "text/plain": [
              "<Figure size 432x288 with 2 Axes>"
            ]
          },
          "metadata": {
            "tags": [],
            "needs_background": "light"
          }
        },
        {
          "output_type": "stream",
          "text": [
            "{'loss': 0.0906452164053917, 'accuracy': 0.968999981880188, 'val_loss': 0.10013676434755325, 'val_accuracy': 0.9693333506584167} \n",
            " best_val_acc : 0.9739999771118164 \n",
            " best_val_loss : 0.09431356936693192\n",
            "Epoch 55/200\n",
            "326/563 [================>.............] - ETA: 1:15 - loss: 0.0678 - accuracy: 0.9759"
          ],
          "name": "stdout"
        }
      ]
    },
    {
      "cell_type": "code",
      "metadata": {
        "id": "eE8XsmnyWeEa"
      },
      "source": [
        "# evaluating model on 10% of test dataset\r\n",
        "pred_1 = model.test_on_dataset(d_test, limit=0.1)\r\n",
        "Metrics.print_all(d_test.labels[:len(pred_1)], pred_1, '10% of test')"
      ],
      "execution_count": null,
      "outputs": []
    },
    {
      "cell_type": "code",
      "metadata": {
        "id": "uWbjCC_8Wgrk"
      },
      "source": [
        "final_model = Model()\r\n",
        "final_model.load('best')\r\n",
        "d_test_tiny = Dataset('test', PROJECT_DIR)\r\n",
        "pred = final_model.test_on_dataset(d_test_tiny)\r\n",
        "Metrics.print_all(d_test_tiny.labels, pred, 'test-tiny')"
      ],
      "execution_count": null,
      "outputs": []
    }
  ]
}